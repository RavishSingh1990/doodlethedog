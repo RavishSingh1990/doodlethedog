{
 "cells": [
  {
   "cell_type": "raw",
   "metadata": {},
   "source": [
    "1. In the below elements which of them are values or an expression? eg:- values can be\n",
    "integer or string and expressions will be mathematical operators.\n",
    "a. *\n",
    "b. 'hello'\n",
    "c. -87.8\n",
    "d. -\n",
    "e. /\n",
    "f. +\n",
    "g. 6\n",
    "\n",
    "Answer:\n",
    "Expressions are following options\n",
    "a. *\n",
    "d. -\n",
    "e. /\n",
    "f. +\n",
    "\n",
    "Values are following options\n",
    "b. 'hello'\n",
    "c. -87.8\n",
    "g. 6\n"
   ]
  },
  {
   "cell_type": "raw",
   "metadata": {},
   "source": [
    "2. What is the difference between string and variable?\n",
    "\n",
    "Answer:\n",
    "Variable is a location for storing values. For example\n",
    "    x = 10\n",
    "here we are storing a value 10 in variable x.\n",
    "\n",
    "String is a sequence or groups of characters. For example\n",
    "    x = \"Apple\"\n",
    "here we are storing a string value \"Apple\" in variable x."
   ]
  },
  {
   "cell_type": "raw",
   "metadata": {},
   "source": [
    "3. Describe three different data types.\n",
    "\n",
    "Answer:\n",
    "Following are the three data types in python\n",
    "\n",
    "a. int- it is used for storing integer values.\n",
    "b. string - it is used for storing for string values.\n",
    "c. float - it is used for storing decimal values.\n"
   ]
  },
  {
   "cell_type": "raw",
   "metadata": {},
   "source": [
    "4. What is an expression made up of? What do all expressions do?\n",
    "Answer:\n",
    "\n",
    "Expression is a combination of variables, mathematical operators or functions.\n",
    "Expressions are used for evaluation of a statement or performing some computation. For example\n",
    "\n",
    "a + b\n",
    "here above expression will add the values present in variables a and b."
   ]
  },
  {
   "cell_type": "raw",
   "metadata": {},
   "source": [
    "5. This assignment statements, like spam = 10. What is the difference between an\n",
    "expression and a statement?\n",
    "\n",
    "Answer:\n",
    "Statement represent a action to be taken by the program.\n",
    "\n",
    "Expressions on the other hand are evaluated and return a value.\n"
   ]
  },
  {
   "cell_type": "raw",
   "metadata": {},
   "source": [
    "6. After running the following code, what does the variable bacon contain?\n",
    "bacon = 22\n",
    "bacon + 1\n",
    "\n",
    "Answer:\n",
    "here we are assigning 22 to bacon and then adding 1 to bacon.\n",
    "\n",
    "so after execution of above code, bacon will be 22"
   ]
  },
  {
   "cell_type": "raw",
   "metadata": {},
   "source": [
    "7. What should the values of the following two terms be?\n",
    "'spam' + 'spamspam'\n",
    "'spam'*3\n",
    "\n",
    "Answer:\n",
    "'spam' + 'spamspam'\n",
    ">> 'spamspamspam'\n",
    "'spam'*3\n",
    ">> 'spamspamspam'"
   ]
  },
  {
   "cell_type": "raw",
   "metadata": {},
   "source": [
    "8. Why is eggs a valid variable name while 100 is invalid?\n",
    "Answer:\n",
    "Variables are used for storing certain values.\n",
    "Python follows certain rules while creating a variable.A variable name cannot start with a number\n",
    "\n",
    "Moreover, 100 is a numerical value and we cannot assign another value to a value itself."
   ]
  },
  {
   "cell_type": "raw",
   "metadata": {},
   "source": [
    "9. What three functions can be used to get the integer, floating-point number, or string\n",
    "version of a value?\n",
    "Answer:\n",
    "\n",
    "int() function evaluates to integer values\n",
    "float() funtion evaluates to floating-point values\n",
    "str() function evaluates to string values\n"
   ]
  },
  {
   "cell_type": "raw",
   "metadata": {},
   "source": [
    "10. Why does this expression cause an error? How can you fix it?\n",
    "'I have eaten' + 99 + 'burritos.'\n",
    "\n",
    "Answer:\n",
    "\n",
    "above snippet will raise a typeError as we are tring to concatenate strings and integers together.\n",
    "In order to fix above code we need to typecast integer value 99 to a string value like following\n",
    "'I have eaten' + str(99) + 'burritos.'\n"
   ]
  }
 ],
 "metadata": {
  "kernelspec": {
   "display_name": "Python 3",
   "language": "python",
   "name": "python3"
  },
  "language_info": {
   "codemirror_mode": {
    "name": "ipython",
    "version": 3
   },
   "file_extension": ".py",
   "mimetype": "text/x-python",
   "name": "python",
   "nbconvert_exporter": "python",
   "pygments_lexer": "ipython3",
   "version": "3.7.6"
  }
 },
 "nbformat": 4,
 "nbformat_minor": 4
}
